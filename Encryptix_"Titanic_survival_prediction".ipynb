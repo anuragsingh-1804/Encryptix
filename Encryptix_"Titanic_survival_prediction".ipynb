{
  "nbformat": 4,
  "nbformat_minor": 0,
  "metadata": {
    "colab": {
      "provenance": [],
      "authorship_tag": "ABX9TyN1beqUBc94i95YTSRiy8cd"
    },
    "kernelspec": {
      "name": "python3",
      "display_name": "Python 3"
    },
    "language_info": {
      "name": "python"
    }
  },
  "cells": [
    {
      "cell_type": "markdown",
      "source": [
        "# ***Titanic Survival Prediction***"
      ],
      "metadata": {
        "id": "Ubl6SdhRuGje"
      }
    },
    {
      "cell_type": "code",
      "source": [
        "import numpy as np\n",
        "import pandas as pd\n",
        "import matplotlib.pyplot as plt\n",
        "import seaborn as sns\n",
        "from sklearn.model_selection import train_test_split\n",
        "from sklearn.linear_model import LogisticRegression\n",
        "from sklearn.metrics import accuracy_score, confusion_matrix, classification_report\n",
        "\n",
        "titanic_data = pd.read_csv('/content/Titanic-Dataset.csv')\n",
        "\n",
        "print(titanic_data.head())\n",
        "\n",
        "print(titanic_data.shape)\n",
        "\n",
        "print(titanic_data.info())\n",
        "\n",
        "print(titanic_data.isnull().sum())\n",
        "\n",
        "titanic_data = titanic_data.drop(columns='Cabin', axis=1)\n",
        "\n",
        "titanic_data['Age'].fillna(titanic_data['Age'].mean(), inplace=True)\n",
        "\n",
        "titanic_data['Embarked'].fillna(titanic_data['Embarked'].mode()[0], inplace=True)\n",
        "\n",
        "print(titanic_data.isnull().sum())\n",
        "\n",
        "print(titanic_data.describe())\n",
        "sns.set()\n",
        "plt.figure(figsize=(6, 4))\n",
        "sns.countplot(x='Survived', data=titanic_data)\n",
        "plt.title('Survival Count')\n",
        "plt.show()\n",
        "\n",
        "plt.figure(figsize=(6, 4))\n",
        "sns.countplot(x='Sex', data=titanic_data)\n",
        "plt.title('Gender Count')\n",
        "plt.show()\n",
        "\n",
        "plt.figure(figsize=(6, 4))\n",
        "sns.countplot(x='Sex', hue='Survived', data=titanic_data)\n",
        "plt.title('Survival Count by Gender')\n",
        "plt.show()\n",
        "\n",
        "plt.figure(figsize=(6, 4))\n",
        "sns.countplot(x='Pclass', data=titanic_data)\n",
        "plt.title('Passenger Class Count')\n",
        "plt.show()\n",
        "\n",
        "plt.figure(figsize=(6, 4))\n",
        "sns.countplot(x='Pclass', hue='Survived', data=titanic_data)\n",
        "plt.title('Survival Count by Passenger Class')\n",
        "plt.show()\n",
        "\n",
        "titanic_data.replace({'Sex': {'male': 0, 'female': 1}, 'Embarked': {'S': 0, 'C': 1, 'Q': 2}}, inplace=True)\n",
        "\n",
        "X = titanic_data.drop(columns=['PassengerId', 'Name', 'Ticket', 'Survived'], axis=1)\n",
        "Y = titanic_data['Survived']\n",
        "\n",
        "X_train, X_test, Y_train, Y_test = train_test_split(X, Y, test_size=0.2, random_state=2)\n",
        "\n",
        "print(X.shape, X_train.shape, X_test.shape)\n",
        "\n",
        "model = LogisticRegression(max_iter=200)\n",
        "model.fit(X_train, Y_train)\n",
        "\n",
        "X_train_prediction = model.predict(X_train)\n",
        "training_data_accuracy = accuracy_score(Y_train, X_train_prediction)\n",
        "print('Accuracy score of training data:', training_data_accuracy)\n",
        "\n",
        "X_test_prediction = model.predict(X_test)\n",
        "testing_data_accuracy = accuracy_score(Y_test, X_test_prediction)\n",
        "print('Accuracy score of testing data:', testing_data_accuracy)\n",
        "\n",
        "conf_matrix = confusion_matrix(Y_test, X_test_prediction)\n",
        "class_report = classification_report(Y_test, X_test_prediction)\n",
        "\n",
        "print('Confusion Matrix:\\n', conf_matrix)\n",
        "print('Classification Report:\\n', class_report)\n",
        "\n",
        "new_passenger = pd.DataFrame({\n",
        "    'Pclass': [3],\n",
        "    'Sex': [0],\n",
        "    'Age': [25],\n",
        "    'SibSp': [0],\n",
        "    'Parch': [0],\n",
        "    'Fare': [7.25],\n",
        "    'Embarked': [0]\n",
        "})\n",
        "\n",
        "prediction = model.predict(new_passenger)\n",
        "\n",
        "if prediction[0] == 0:\n",
        "    print(\"The passenger did not survive.\")\n",
        "else:\n",
        "    print(\"The passenger survived.\")\n"
      ],
      "metadata": {
        "id": "pehSarZDuUnU"
      },
      "execution_count": null,
      "outputs": []
    },
    {
      "cell_type": "markdown",
      "source": [
        "## ***Conclusion***\n",
        "\n",
        "**Based on the analysis on the historical Titanic data, the new passenger with the specified attributes is not expected to survive.**"
      ],
      "metadata": {
        "id": "pLeDG3fBxhKJ"
      }
    }
  ]
}